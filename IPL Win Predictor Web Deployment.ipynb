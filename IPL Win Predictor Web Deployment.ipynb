{
 "cells": [
  {
   "cell_type": "code",
   "execution_count": 1,
   "id": "4e2d750c",
   "metadata": {},
   "outputs": [
    {
     "ename": "ModuleNotFoundError",
     "evalue": "No module named 'streamlit'",
     "output_type": "error",
     "traceback": [
      "\u001b[1;31m---------------------------------------------------------------------------\u001b[0m",
      "\u001b[1;31mModuleNotFoundError\u001b[0m                       Traceback (most recent call last)",
      "\u001b[1;32m~\\AppData\\Local\\Temp/ipykernel_15892/2666428213.py\u001b[0m in \u001b[0;36m<module>\u001b[1;34m\u001b[0m\n\u001b[1;32m----> 1\u001b[1;33m \u001b[1;32mimport\u001b[0m \u001b[0mstreamlit\u001b[0m \u001b[1;32mas\u001b[0m \u001b[0mst\u001b[0m\u001b[1;33m\u001b[0m\u001b[1;33m\u001b[0m\u001b[0m\n\u001b[0m\u001b[0;32m      2\u001b[0m \u001b[1;32mimport\u001b[0m \u001b[0mpickle\u001b[0m\u001b[1;33m\u001b[0m\u001b[1;33m\u001b[0m\u001b[0m\n\u001b[0;32m      3\u001b[0m \u001b[1;32mimport\u001b[0m \u001b[0mpandas\u001b[0m \u001b[1;32mas\u001b[0m \u001b[0mpd\u001b[0m\u001b[1;33m\u001b[0m\u001b[1;33m\u001b[0m\u001b[0m\n\u001b[0;32m      4\u001b[0m \u001b[1;33m\u001b[0m\u001b[0m\n\u001b[0;32m      5\u001b[0m teams = ['Sunrisers Hyderabad',\n",
      "\u001b[1;31mModuleNotFoundError\u001b[0m: No module named 'streamlit'"
     ]
    }
   ],
   "source": [
    "import streamlit as st\n",
    "import pickle\n",
    "import pandas as pd\n",
    "\n",
    "teams = ['Sunrisers Hyderabad',\n",
    " 'Mumbai Indians',\n",
    " 'Royal Challengers Bangalore',\n",
    " 'Kolkata Knight Riders',\n",
    " 'Kings XI Punjab',\n",
    " 'Chennai Super Kings',\n",
    " 'Rajasthan Royals',\n",
    " 'Delhi Capitals']\n",
    "\n",
    "cities = ['Hyderabad', 'Bangalore', 'Mumbai', 'Indore', 'Kolkata', 'Delhi',\n",
    "       'Chandigarh', 'Jaipur', 'Chennai', 'Cape Town', 'Port Elizabeth',\n",
    "       'Durban', 'Centurion', 'East London', 'Johannesburg', 'Kimberley',\n",
    "       'Bloemfontein', 'Ahmedabad', 'Cuttack', 'Nagpur', 'Dharamsala',\n",
    "       'Visakhapatnam', 'Pune', 'Raipur', 'Ranchi', 'Abu Dhabi',\n",
    "       'Sharjah', 'Mohali', 'Bengaluru']\n",
    "\n",
    "pipe = pickle.load(open('pipe.pkl','rb'))\n",
    "st.title('IPL Win Predictor')\n",
    "\n",
    "col1, col2 = st.beta_columns(2)\n",
    "\n",
    "with col1:\n",
    "    batting_team = st.selectbox('Select the batting team',sorted(teams))\n",
    "with col2:\n",
    "    bowling_team = st.selectbox('Select the bowling team',sorted(teams))\n",
    "\n",
    "selected_city = st.selectbox('Select host city',sorted(cities))\n",
    "\n",
    "target = st.number_input('Target')\n",
    "\n",
    "col3,col4,col5 = st.beta_columns(3)\n",
    "\n",
    "with col3:\n",
    "    score = st.number_input('Score')\n",
    "with col4:\n",
    "    overs = st.number_input('Overs completed')\n",
    "with col5:\n",
    "    wickets = st.number_input('Wickets out')\n",
    "\n",
    "if st.button('Predict Probability'):\n",
    "    runs_left = target - score\n",
    "    balls_left = 120 - (overs*6)\n",
    "    wickets = 10 - wickets\n",
    "    crr = score/overs\n",
    "    rrr = (runs_left*6)/balls_left\n",
    "\n",
    "    input_df = pd.DataFrame({'batting_team':[batting_team],'bowling_team':[bowling_team],'city':[selected_city],'runs_left':[runs_left],'balls_left':[balls_left],'wickets':[wickets],'total_runs_x':[target],'crr':[crr],'rrr':[rrr]})\n",
    "\n",
    "    result = pipe.predict_proba(input_df)\n",
    "    loss = result[0][0]\n",
    "    win = result[0][1]\n",
    "    st.header(batting_team + \"- \" + str(round(win*100)) + \"%\")\n",
    "    st.header(bowling_team + \"- \" + str(round(loss*100)) + \"%\")"
   ]
  },
  {
   "cell_type": "code",
   "execution_count": null,
   "id": "76cd85c3",
   "metadata": {},
   "outputs": [],
   "source": []
  }
 ],
 "metadata": {
  "kernelspec": {
   "display_name": "Python 3 (ipykernel)",
   "language": "python",
   "name": "python3"
  },
  "language_info": {
   "codemirror_mode": {
    "name": "ipython",
    "version": 3
   },
   "file_extension": ".py",
   "mimetype": "text/x-python",
   "name": "python",
   "nbconvert_exporter": "python",
   "pygments_lexer": "ipython3",
   "version": "3.9.7"
  }
 },
 "nbformat": 4,
 "nbformat_minor": 5
}
